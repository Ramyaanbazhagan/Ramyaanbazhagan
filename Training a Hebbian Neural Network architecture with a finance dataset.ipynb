{
  "nbformat": 4,
  "nbformat_minor": 0,
  "metadata": {
    "colab": {
      "provenance": [],
      "authorship_tag": "ABX9TyPiY6VvJBgZpIz7tB85vIAP",
      "include_colab_link": true
    },
    "kernelspec": {
      "name": "python3",
      "display_name": "Python 3"
    },
    "language_info": {
      "name": "python"
    }
  },
  "cells": [
    {
      "cell_type": "markdown",
      "metadata": {
        "id": "view-in-github",
        "colab_type": "text"
      },
      "source": [
        "<a href=\"https://colab.research.google.com/github/Ramyaanbazhagan/Ramyaanbazhagan/blob/main/Training%20a%20Hebbian%20Neural%20Network%20architecture%20with%20a%20finance%20dataset.ipynb\" target=\"_parent\"><img src=\"https://colab.research.google.com/assets/colab-badge.svg\" alt=\"Open In Colab\"/></a>"
      ]
    },
    {
      "cell_type": "code",
      "execution_count": 12,
      "metadata": {
        "id": "D2yq7rgNyyJs"
      },
      "outputs": [],
      "source": []
    },
    {
      "cell_type": "code",
      "source": [],
      "metadata": {
        "id": "Sfhky-xfAhOU"
      },
      "execution_count": null,
      "outputs": []
    },
    {
      "cell_type": "code",
      "source": [],
      "metadata": {
        "id": "ZD9f-JDOA9e8"
      },
      "execution_count": null,
      "outputs": []
    },
    {
      "cell_type": "code",
      "source": [
        "import numpy as np\n",
        "import yfinance as yf\n",
        "from sklearn.preprocessing import MinMaxScaler\n",
        "\n",
        "# Step 1: Define activation function\n",
        "def sigmoid(x):\n",
        "    return 1 / (1 + np.exp(-x))\n",
        "\n",
        "# Step 2: Define loss function\n",
        "def loss_function(y_true, y_pred):\n",
        "    return np.mean((y_true - y_pred) ** 2)\n",
        "\n",
        "# Step 3: Implement Hebbian Neural Network class\n",
        "class HebbianNN:\n",
        "    def __init__(self, input_size, output_size, learning_rate=0.01):\n",
        "        self.weights = np.random.randn(input_size, output_size) * 0.01\n",
        "        self.learning_rate = learning_rate\n",
        "\n",
        "    def forward(self, X):\n",
        "        self.input = X\n",
        "        self.output = sigmoid(np.dot(X, self.weights))\n",
        "        return self.output\n",
        "\n",
        "    def hebbian_update(self):\n",
        "        self.weights += self.learning_rate * np.dot(self.input.T, self.output)\n",
        "\n",
        "    def train(self, X, y, epochs=100):\n",
        "        for epoch in range(epochs):\n",
        "            y_pred = self.forward(X)\n",
        "            loss = loss_function(y, y_pred)\n",
        "            self.hebbian_update()\n",
        "            print(f\"Epoch {epoch+1}, Loss: {loss:.4f}\")\n",
        "\n",
        "# Step 4: Load and preprocess the historical stock prices of Apple (AAPL)\n",
        "data = yf.download('AAPL', start='2010-01-01', end='2022-02-26')\n",
        "X = data[['Open', 'High', 'Low', 'Volume']]\n",
        "y = data['Close'].values.reshape(-1, 1)\n",
        "\n",
        "# Scale the data using Min-Max Scaler\n",
        "scaler = MinMaxScaler()\n",
        "X_scaled = scaler.fit_transform(X)\n",
        "y_scaled = scaler.fit_transform(y)\n",
        "\n",
        "# Step 5: Train the Hebbian Neural Network\n",
        "nn = HebbianNN(input_size=X_scaled.shape[1], output_size=y_scaled.shape[1], learning_rate=0.01)\n",
        "nn.train(X_scaled, y_scaled, epochs=10)"
      ],
      "metadata": {
        "colab": {
          "base_uri": "https://localhost:8080/"
        },
        "id": "WpyhTeE4Fsbc",
        "outputId": "de2251f0-3518-43de-e037-e7d42323caab"
      },
      "execution_count": 12,
      "outputs": [
        {
          "output_type": "stream",
          "name": "stderr",
          "text": [
            "\r[*********************100%***********************]  1 of 1 completed"
          ]
        },
        {
          "output_type": "stream",
          "name": "stdout",
          "text": [
            "Epoch 1, Loss: 0.1387\n",
            "Epoch 2, Loss: 0.3866\n",
            "Epoch 3, Loss: 0.5950\n",
            "Epoch 4, Loss: 0.6561\n",
            "Epoch 5, Loss: 0.6729\n",
            "Epoch 6, Loss: 0.6780\n",
            "Epoch 7, Loss: 0.6796\n",
            "Epoch 8, Loss: 0.6802\n",
            "Epoch 9, Loss: 0.6804\n",
            "Epoch 10, Loss: 0.6805\n"
          ]
        },
        {
          "output_type": "stream",
          "name": "stderr",
          "text": [
            "\n"
          ]
        }
      ]
    },
    {
      "cell_type": "code",
      "source": [],
      "metadata": {
        "id": "psqYUSMgE-wS"
      },
      "execution_count": null,
      "outputs": []
    }
  ]
}